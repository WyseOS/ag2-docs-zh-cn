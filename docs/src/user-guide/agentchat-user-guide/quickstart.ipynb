{
    "cells": [
        {
            "cell_type": "markdown",
            "metadata": {},
            "source": [
                "# 快速开始"
            ]
        },
        {
            "cell_type": "markdown",
            "metadata": {},
            "source": [
                "```{include} warning.md\n",
                "\n",
                "```\n",
                "\n",
                ":::{note}\n",
                "关于安装说明，请参考[installation guide](./installation).\n",
                ":::\n",
                "\n",
                "在 AutoGen AgentChat 中，您可以使用预设代理快速构建应用程序。\n",
                "为了说明这一点，我们将从创建一个单一代理的团队开始，该代理可以使用工具并响应消息。\n",
                "\n",
                "以下代码使用 OpenAI 模型。如果您还没有安装，需要安装以下软件包和扩展："
            ]
        },
        {
            "cell_type": "code",
            "execution_count": null,
            "metadata": {
                "vscode": {
                    "languageId": "shellscript"
                }
            },
            "outputs": [],
            "source": [
                "pip install 'autogen-agentchat==0.4.0.dev6' 'autogen-ext[openai]==0.4.0.dev6'"
            ]
        },
        {
            "cell_type": "markdown",
            "metadata": {},
            "source": [
                "    要使用 Azure OpenAI 模型和 AAD 认证，请参阅 [这里](./tutorial/models.ipynb#azure-openai)。"
            ]
        },
        {
            "cell_type": "code",
            "execution_count": null,
            "metadata": {},
            "outputs": [],
            "source": [
                "from autogen_agentchat.agents import AssistantAgent\n",
                "from autogen_agentchat.task import Console, TextMentionTermination\n",
                "from autogen_agentchat.teams import RoundRobinGroupChat\n",
                "from autogen_ext.models import OpenAIChatCompletionClient\n",
                "\n",
                "\n",
                "# Define a tool\n",
                "async def get_weather(city: str) -> str:\n",
                "    return f\"The weather in {city} is 73 degrees and Sunny.\"\n",
                "\n",
                "\n",
                "async def main() -> None:\n",
                "    # Define an agent\n",
                "    weather_agent = AssistantAgent(\n",
                "        name=\"weather_agent\",\n",
                "        model_client=OpenAIChatCompletionClient(\n",
                "            model=\"gpt-4o\",\n",
                "            api_key=\"\",\n",
                "        ),\n",
                "        tools=[get_weather],\n",
                "    )\n",
                "\n",
                "    # Define termination condition\n",
                "    termination = TextMentionTermination(\"TERMINATE\")\n",
                "\n",
                "    # Define a team\n",
                "    agent_team = RoundRobinGroupChat([weather_agent], termination_condition=termination)\n",
                "\n",
                "    # Run the team and stream messages to the console\n",
                "    stream = agent_team.run_stream(task=\"What is the weather in 北京?\")\n",
                "    await Console(stream)\n",
                "\n",
                "\n",
                "# NOTE: if running this inside a Python script you'll need to use asyncio.run(main()).\n",
                "await main()"
            ]
        },
        {
            "cell_type": "markdown",
            "metadata": {},
            "source": [
                "上述代码介绍了 AgentChat 中的两个高级概念：*Agent* 和 *Team*. 代理帮助我们定义收到消息时要采取的行动。具体来说，我们使用 {py:class}`~autogen_agentchat.agents.AssistantAgent` 预设 - 这是一个可以访问模型（例如 LLM）和工具（函数）的代理，它可以使用这些资源来处理任务。团队帮助我们定义代理之间交互的规则。在 {py:class}`~autogen_agentchat.teams.RoundRobinGroupChat` 团队中，代理按照轮询的方式依次响应。\n",
                "在这个例子中，我们只有一个代理，所以每轮都使用相同的代理。"
            ]
        },
        {
            "cell_type": "markdown",
            "metadata": {},
            "source": [
                "## 下一步\n",
                "\n",
                "现在您已经基本了解了如何定义*Agent* 和 *Team*，建议您继续学习 [tutorial](./tutorial/index)，了解 AgentChat 的其他功能。\n",
                "\n"
            ]
        }
    ],
    "metadata": {
        "kernelspec": {
            "display_name": ".venv",
            "language": "python",
            "name": "python3"
        },
        "language_info": {
            "codemirror_mode": {
                "name": "ipython",
                "version": 3
            },
            "file_extension": ".py",
            "mimetype": "text/x-python",
            "name": "python",
            "nbconvert_exporter": "python",
            "pygments_lexer": "ipython3",
            "version": "3.12.3"
        }
    },
    "nbformat": 4,
    "nbformat_minor": 2
}
